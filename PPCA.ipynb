{
 "cells": [
  {
   "cell_type": "code",
   "execution_count": 1,
   "metadata": {},
   "outputs": [],
   "source": [
    "import torch\n",
    "import math\n",
    "import torch.nn as nn\n",
    "import torch.optim as optim\n",
    "from torch.autograd import Variable\n",
    "from torch.distributions.multivariate_normal import MultivariateNormal\n",
    "from torch.distributions.bernoulli import Bernoulli\n",
    "import numpy as np\n",
    "import pandas as pd\n",
    "from sklearn.model_selection import train_test_split\n",
    "from torchvision import datasets, transforms"
   ]
  },
  {
   "cell_type": "code",
   "execution_count": 4,
   "metadata": {},
   "outputs": [],
   "source": [
    "class PCPPCA(nn.Module):\n",
    "    # D is the dimension of the image (i.e. width/height)\n",
    "    # K is the dimension of the laten variables\n",
    "    # Y is the number of classes\n",
    "    def __init__(self, W, K, Y, comp=1):\n",
    "        super().__init__()\n",
    "        self.D = math.ceil(W/comp) ** 2\n",
    "        self.K = K\n",
    "        self.pool = nn.MaxPool2d(comp,ceil_mode=True)\n",
    "        self.F = nn.Parameter(torch.randn(self.D,self.K),requires_grad=True)\n",
    "        self.sig = nn.Parameter(torch.tensor(1.), requires_grad = True)\n",
    "        self.mu = nn.Parameter(torch.randn(self.D),requires_grad=True)\n",
    "        #self.linear = nn.Linear(K, Y)\n",
    "\n",
    "    def forward(self, x):\n",
    "        M = x.shape[0]\n",
    "        self.compressed = self.pool(x).mean(axis=1).view(M,self.D)\n",
    "        self.Phi = torch.eye(self.D) * torch.exp(self.sig.clamp(min=-5))\n",
    "        self.Phi_inv = torch.eye(self.D) * torch.exp(-self.sig.clamp(min=-5))\n",
    "        self.gen = MultivariateNormal(loc=self.mu, covariance_matrix=self.F.mm(self.F.t()) + self.Phi)\n",
    "        #sigz = (torch.eye(self.K) + self.F.t().mm(self.Phi_inv).mm(self.F)).inverse()\n",
    "        #muz = sigz.mm(self.F.t()).mm(self.Phi_inv).mm((self.compressed - self.mu.unsqueeze(0).repeat(self.compressed.shape[0],1)).t()).t()\n",
    "        return torch.Tensor(0)#self.linear(muz)\n",
    "    \n",
    "    def get_preds(self,x):\n",
    "        M = x.shape[0]\n",
    "        self.compressed = self.pool(x).mean(axis=1).view(M,self.D)\n",
    "        self.Phi = torch.eye(self.D) * torch.exp(self.sig.clamp(min=-5))\n",
    "        self.Phi_inv = torch.eye(self.D) * torch.exp(-self.sig.clamp(min=-5))\n",
    "        self.gen = MultivariateNormal(loc=self.mu, covariance_matrix=self.F.mm(self.F.t()) + self.Phi)\n",
    "        sigz = (torch.eye(self.K) + self.F.t().mm(self.Phi_inv).mm(self.F)).inverse()\n",
    "        muz = sigz.mm(self.F.t()).mm(self.Phi_inv).mm((self.compressed - self.mu.unsqueeze(0).repeat(self.compressed.shape[0],1)).t()).t()\n",
    "        return self.linear(muz)\n"
   ]
  },
  {
   "cell_type": "code",
   "execution_count": 5,
   "metadata": {},
   "outputs": [],
   "source": [
    "data_path = 'images2em'\n",
    "dataset = datasets.ImageFolder(\n",
    "    root=data_path,\n",
    "    transform= transforms.ToTensor()\n",
    ")"
   ]
  },
  {
   "cell_type": "code",
   "execution_count": 6,
   "metadata": {},
   "outputs": [
    {
     "data": {
      "text/plain": [
       "['happiness', 'neutral']"
      ]
     },
     "execution_count": 6,
     "metadata": {},
     "output_type": "execute_result"
    }
   ],
   "source": [
    "dataset.classes"
   ]
  },
  {
   "cell_type": "code",
   "execution_count": 7,
   "metadata": {},
   "outputs": [],
   "source": [
    "M=100\n",
    "dataloader = torch.utils.data.DataLoader(dataset, batch_size=M, shuffle=True)"
   ]
  },
  {
   "cell_type": "code",
   "execution_count": 8,
   "metadata": {},
   "outputs": [],
   "source": [
    "model = PCPPCA(350,30,2,comp=5)\n",
    "optimizer = optim.SGD(model.parameters(), lr=0.005)\n",
    "l = torch.nn.CrossEntropyLoss()\n",
    "lmbda = 2000"
   ]
  },
  {
   "cell_type": "code",
   "execution_count": 9,
   "metadata": {},
   "outputs": [
    {
     "name": "stdout",
     "output_type": "stream",
     "text": [
      "0\n",
      "Generative loss:  tensor(8205.6855, grad_fn=<NegBackward>)\n",
      "\n",
      "1\n",
      "Generative loss:  tensor(448395.6875, grad_fn=<NegBackward>)\n",
      "\n",
      "2\n",
      "Generative loss:  tensor(33058.5781, grad_fn=<NegBackward>)\n",
      "\n",
      "3\n",
      "Generative loss:  tensor(7781.5020, grad_fn=<NegBackward>)\n",
      "\n",
      "4\n",
      "Generative loss:  tensor(4730.9546, grad_fn=<NegBackward>)\n",
      "\n",
      "5\n",
      "Generative loss:  tensor(4394.0142, grad_fn=<NegBackward>)\n",
      "\n"
     ]
    },
    {
     "ename": "KeyboardInterrupt",
     "evalue": "",
     "output_type": "error",
     "traceback": [
      "\u001b[0;31m---------------------------------------------------------------------------\u001b[0m",
      "\u001b[0;31mKeyboardInterrupt\u001b[0m                         Traceback (most recent call last)",
      "\u001b[0;32m<ipython-input-9-c7427f84ecc3>\u001b[0m in \u001b[0;36m<module>\u001b[0;34m\u001b[0m\n\u001b[1;32m      8\u001b[0m     \u001b[0mprint\u001b[0m\u001b[0;34m(\u001b[0m\u001b[0;34m\"Generative loss: \"\u001b[0m\u001b[0;34m,\u001b[0m \u001b[0mloss\u001b[0m\u001b[0;34m)\u001b[0m \u001b[0;31m#- l(preds,y))\u001b[0m\u001b[0;34m\u001b[0m\u001b[0;34m\u001b[0m\u001b[0m\n\u001b[1;32m      9\u001b[0m     \u001b[0mprint\u001b[0m\u001b[0;34m(\u001b[0m\u001b[0;34m)\u001b[0m\u001b[0;34m\u001b[0m\u001b[0;34m\u001b[0m\u001b[0m\n\u001b[0;32m---> 10\u001b[0;31m     \u001b[0mloss\u001b[0m\u001b[0;34m.\u001b[0m\u001b[0mbackward\u001b[0m\u001b[0;34m(\u001b[0m\u001b[0;34m)\u001b[0m\u001b[0;34m\u001b[0m\u001b[0;34m\u001b[0m\u001b[0m\n\u001b[0m\u001b[1;32m     11\u001b[0m     \u001b[0moptimizer\u001b[0m\u001b[0;34m.\u001b[0m\u001b[0mstep\u001b[0m\u001b[0;34m(\u001b[0m\u001b[0;34m)\u001b[0m\u001b[0;34m\u001b[0m\u001b[0;34m\u001b[0m\u001b[0m\n",
      "\u001b[0;32m~/anaconda3/lib/python3.7/site-packages/torch/tensor.py\u001b[0m in \u001b[0;36mbackward\u001b[0;34m(self, gradient, retain_graph, create_graph)\u001b[0m\n\u001b[1;32m    193\u001b[0m                 \u001b[0mproducts\u001b[0m\u001b[0;34m.\u001b[0m \u001b[0mDefaults\u001b[0m \u001b[0mto\u001b[0m\u001b[0;31m \u001b[0m\u001b[0;31m`\u001b[0m\u001b[0;31m`\u001b[0m\u001b[0;32mFalse\u001b[0m\u001b[0;31m`\u001b[0m\u001b[0;31m`\u001b[0m\u001b[0;34m.\u001b[0m\u001b[0;34m\u001b[0m\u001b[0;34m\u001b[0m\u001b[0m\n\u001b[1;32m    194\u001b[0m         \"\"\"\n\u001b[0;32m--> 195\u001b[0;31m         \u001b[0mtorch\u001b[0m\u001b[0;34m.\u001b[0m\u001b[0mautograd\u001b[0m\u001b[0;34m.\u001b[0m\u001b[0mbackward\u001b[0m\u001b[0;34m(\u001b[0m\u001b[0mself\u001b[0m\u001b[0;34m,\u001b[0m \u001b[0mgradient\u001b[0m\u001b[0;34m,\u001b[0m \u001b[0mretain_graph\u001b[0m\u001b[0;34m,\u001b[0m \u001b[0mcreate_graph\u001b[0m\u001b[0;34m)\u001b[0m\u001b[0;34m\u001b[0m\u001b[0;34m\u001b[0m\u001b[0m\n\u001b[0m\u001b[1;32m    196\u001b[0m \u001b[0;34m\u001b[0m\u001b[0m\n\u001b[1;32m    197\u001b[0m     \u001b[0;32mdef\u001b[0m \u001b[0mregister_hook\u001b[0m\u001b[0;34m(\u001b[0m\u001b[0mself\u001b[0m\u001b[0;34m,\u001b[0m \u001b[0mhook\u001b[0m\u001b[0;34m)\u001b[0m\u001b[0;34m:\u001b[0m\u001b[0;34m\u001b[0m\u001b[0;34m\u001b[0m\u001b[0m\n",
      "\u001b[0;32m~/anaconda3/lib/python3.7/site-packages/torch/autograd/__init__.py\u001b[0m in \u001b[0;36mbackward\u001b[0;34m(tensors, grad_tensors, retain_graph, create_graph, grad_variables)\u001b[0m\n\u001b[1;32m     97\u001b[0m     Variable._execution_engine.run_backward(\n\u001b[1;32m     98\u001b[0m         \u001b[0mtensors\u001b[0m\u001b[0;34m,\u001b[0m \u001b[0mgrad_tensors\u001b[0m\u001b[0;34m,\u001b[0m \u001b[0mretain_graph\u001b[0m\u001b[0;34m,\u001b[0m \u001b[0mcreate_graph\u001b[0m\u001b[0;34m,\u001b[0m\u001b[0;34m\u001b[0m\u001b[0;34m\u001b[0m\u001b[0m\n\u001b[0;32m---> 99\u001b[0;31m         allow_unreachable=True)  # allow_unreachable flag\n\u001b[0m\u001b[1;32m    100\u001b[0m \u001b[0;34m\u001b[0m\u001b[0m\n\u001b[1;32m    101\u001b[0m \u001b[0;34m\u001b[0m\u001b[0m\n",
      "\u001b[0;31mKeyboardInterrupt\u001b[0m: "
     ]
    }
   ],
   "source": [
    "for i in range(100):\n",
    "    print(i)\n",
    "    images,y = next(iter(dataloader))\n",
    "    optimizer.zero_grad()\n",
    "    _ = model.forward(images)\n",
    "    loss = -torch.mean(model.gen.log_prob(model.compressed)) #+ lmbda * l(preds,y)\n",
    "    #print(\"Predictive loss: \", lmbda* l(preds,y))\n",
    "    print(\"Generative loss: \", loss) #- l(preds,y))\n",
    "    print()\n",
    "    loss.backward()\n",
    "    optimizer.step()"
   ]
  },
  {
   "cell_type": "code",
   "execution_count": 15,
   "metadata": {},
   "outputs": [],
   "source": [
    "loadalldata = torch.utils.data.DataLoader(dataset, batch_size=dataset.__len__())\n",
    "allimages,ally = next(iter(loadalldata))"
   ]
  },
  {
   "cell_type": "code",
   "execution_count": 20,
   "metadata": {},
   "outputs": [],
   "source": [
    "preds = model.get_preds(allimages)"
   ]
  },
  {
   "cell_type": "code",
   "execution_count": 21,
   "metadata": {},
   "outputs": [
    {
     "data": {
      "text/plain": [
       "tensor(0.4415)"
      ]
     },
     "execution_count": 21,
     "metadata": {},
     "output_type": "execute_result"
    }
   ],
   "source": [
    "torch.mean((torch.argmax(preds,axis=1) - ally) ** 2 * 1.)"
   ]
  },
  {
   "cell_type": "code",
   "execution_count": null,
   "metadata": {},
   "outputs": [],
   "source": []
  }
 ],
 "metadata": {
  "kernelspec": {
   "display_name": "Python 3",
   "language": "python",
   "name": "python3"
  },
  "language_info": {
   "codemirror_mode": {
    "name": "ipython",
    "version": 3
   },
   "file_extension": ".py",
   "mimetype": "text/x-python",
   "name": "python",
   "nbconvert_exporter": "python",
   "pygments_lexer": "ipython3",
   "version": "3.7.3"
  }
 },
 "nbformat": 4,
 "nbformat_minor": 2
}
