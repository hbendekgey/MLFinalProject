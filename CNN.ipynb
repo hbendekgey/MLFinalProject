{
 "cells": [
  {
   "cell_type": "code",
   "execution_count": 26,
   "metadata": {},
   "outputs": [
    {
     "data": {
      "text/plain": [
       "['anger', 'happiness', 'neutral', 'sadness', 'surprise']"
      ]
     },
     "execution_count": 26,
     "metadata": {},
     "output_type": "execute_result"
    }
   ],
   "source": [
    "from torchvision import datasets, transforms\n",
    "import torch\n",
    "import numpy as np\n",
    "\n",
    "np.random.seed(0)\n",
    "torch.manual_seed(0)\n",
    "\n",
    "data_path = 'images5em'\n",
    "dataset = datasets.ImageFolder(\n",
    "    root=data_path,\n",
    "    transform= transforms.ToTensor()\n",
    ")\n",
    "dataset.classes"
   ]
  },
  {
   "cell_type": "code",
   "execution_count": 27,
   "metadata": {},
   "outputs": [
    {
     "data": {
      "text/plain": [
       "torch.Size([100, 3, 350, 350])"
      ]
     },
     "execution_count": 27,
     "metadata": {},
     "output_type": "execute_result"
    }
   ],
   "source": [
    "M=100\n",
    "dataloader = torch.utils.data.DataLoader(dataset, batch_size=M, shuffle=True)\n",
    "images, labels = next(iter(dataloader))\n",
    "images.shape # 100 images, 3 components (r,g,b) and 350 x 350 pixels"
   ]
  },
  {
   "cell_type": "code",
   "execution_count": 28,
   "metadata": {},
   "outputs": [
    {
     "name": "stdout",
     "output_type": "stream",
     "text": [
      "torch.Size([100, 350, 350])\n"
     ]
    }
   ],
   "source": [
    "images = images.mean(axis=1)\n",
    "print(images.shape)\n"
   ]
  },
  {
   "cell_type": "code",
   "execution_count": 29,
   "metadata": {},
   "outputs": [
    {
     "name": "stdout",
     "output_type": "stream",
     "text": [
      "torch.Size([100, 1, 350, 350])\n"
     ]
    }
   ],
   "source": [
    "# note that r=g=b for grey images (all of these) so mean across (r,g,b) \n",
    "# then squash the 350x350 matrices into 122500 arrays\n",
    "#new_col=np.zeros(100)\n",
    "\n",
    "images=torch.unsqueeze(images, 1) \n",
    "\n",
    "#images = images.mean(axis=1)\n",
    "print(images.shape)\n"
   ]
  },
  {
   "cell_type": "code",
   "execution_count": 132,
   "metadata": {},
   "outputs": [],
   "source": [
    "#x,y=dataset[0]\n",
    "\n",
    "\n"
   ]
  },
  {
   "cell_type": "code",
   "execution_count": 34,
   "metadata": {},
   "outputs": [],
   "source": [
    "from torch.autograd import Variable\n",
    "import torch.nn.functional as F\n",
    "\n",
    "class CNN(torch.nn.Module):\n",
    "    def __init__(self):\n",
    "        super(CNN, self).__init__()\n",
    "        #Layers\n",
    "        #ouput will be 175x175 \"images\"\n",
    "        self.layer1 = torch.nn.Sequential(\n",
    "            torch.nn.Conv2d(in_channels=1, out_channels=32, kernel_size=5, stride=1, padding =2),\n",
    "            torch.nn.ReLU(),\n",
    "            torch.nn.MaxPool2d(kernel_size=2, stride=2,padding=0)\n",
    "        )\n",
    "        #output will be 88x88 images\n",
    "        self.layer2 = torch.nn.Sequential(\n",
    "            torch.nn.Conv2d(in_channels=32, out_channels=64, kernel_size=5, stride=1, padding =2),\n",
    "            torch.nn.ReLU(),\n",
    "            torch.nn.MaxPool2d(kernel_size=3, stride=2, padding=1)\n",
    "        )\n",
    "        #output will be 44x44 images\n",
    "        self.layer3 = torch.nn.Sequential(\n",
    "            torch.nn.Conv2d(in_channels=64, out_channels=128, kernel_size=5, stride=1, padding =2),\n",
    "            torch.nn.ReLU(),\n",
    "            torch.nn.MaxPool2d(kernel_size=2, stride=2, padding=0)\n",
    "        )\n",
    "        #output will be 22x22 images\n",
    "        self.layer4 = torch.nn.Sequential(\n",
    "            torch.nn.Conv2d(in_channels=128, out_channels=256, kernel_size=5, stride=1, padding =2),\n",
    "            torch.nn.ReLU(),\n",
    "            torch.nn.MaxPool2d(kernel_size=2, stride=2, padding=0)\n",
    "        )\n",
    "        #output will be 11x11 images\n",
    "        self.layer5 = torch.nn.Sequential(\n",
    "            torch.nn.Conv2d(in_channels=256, out_channels=512, kernel_size=5, stride=1, padding =2),\n",
    "            torch.nn.ReLU(),\n",
    "            torch.nn.MaxPool2d(kernel_size=2, stride=2, padding=0)\n",
    "        )\n",
    "        #avoid overfitting\n",
    "        self.drop_out = torch.nn.Dropout()\n",
    "        #fully connected layers\n",
    "        self.fc1 = torch.nn.Linear(11 * 11 * 512, 1000)\n",
    "        self.fc2 = torch.nn.Linear(1000, 5)\n",
    "        \n",
    "    def forward(self,x):\n",
    "        xout = self.layer1(x)\n",
    "        xout = self.layer2(xout)\n",
    "        xout = self.layer3(xout)\n",
    "        xout = self.layer4(xout)\n",
    "        xout = self.layer5(xout)\n",
    "        xout = xout.reshape(xout.size(0), -1)\n",
    "        xout = self.drop_out(xout)\n",
    "        xout = self.fc1(xout)\n",
    "        xout = self.fc2(xout)\n",
    "        return xout"
   ]
  },
  {
   "cell_type": "code",
   "execution_count": null,
   "metadata": {},
   "outputs": [
    {
     "name": "stdout",
     "output_type": "stream",
     "text": [
      "Epoch  0\n",
      "Loss  1.5976682901382446\n",
      "Percent correct  49.0\n",
      "Epoch  0\n",
      "Loss  6.909214019775391\n",
      "Percent correct  49.0\n",
      "Epoch  0\n",
      "Loss  3.1908750534057617\n",
      "Percent correct  47.0\n",
      "Epoch  0\n",
      "Loss  1.1456141471862793\n",
      "Percent correct  47.0\n"
     ]
    }
   ],
   "source": [
    "model = CNN()\n",
    "learning_rate=.001\n",
    "n_epochs=100\n",
    "running_loss=[]\n",
    "\n",
    "# Loss function (cross entropy log loss)\n",
    "criterion = torch.nn.CrossEntropyLoss()\n",
    "#optimizer which strongly penalizes high confidence in the wrong answer\n",
    "optimizer = torch.optim.Adam(model.parameters(), lr=learning_rate)\n",
    "\n",
    "for epoch in range(n_epochs):\n",
    "    \n",
    "    #train\n",
    "    for i in range(M):\n",
    "        \n",
    "        outputs = model(images)\n",
    "        loss = criterion(outputs, labels)\n",
    "        running_loss.append(loss.item())\n",
    "        \n",
    "        #backprop and optimization step\n",
    "        optimizer.zero_grad()\n",
    "        loss.backward()\n",
    "        optimizer.step()\n",
    "        \n",
    "        total = M\n",
    "        _, predicted = torch.max(outputs.data, 1)\n",
    "        correct = (predicted == labels).sum().item()\n",
    "        \n",
    "        if(( i+1 ) %10 == 0):\n",
    "            print(\"Epoch \", epoch + 1)\n",
    "            print(\"Loss \", loss.item() )\n",
    "            print(\"Percent correct \", correct/total * 100)"
   ]
  },
  {
   "cell_type": "code",
   "execution_count": null,
   "metadata": {},
   "outputs": [],
   "source": []
  }
 ],
 "metadata": {
  "kernelspec": {
   "display_name": "Python 3",
   "language": "python",
   "name": "python3"
  },
  "language_info": {
   "codemirror_mode": {
    "name": "ipython",
    "version": 3
   },
   "file_extension": ".py",
   "mimetype": "text/x-python",
   "name": "python",
   "nbconvert_exporter": "python",
   "pygments_lexer": "ipython3",
   "version": "3.7.4"
  }
 },
 "nbformat": 4,
 "nbformat_minor": 2
}
